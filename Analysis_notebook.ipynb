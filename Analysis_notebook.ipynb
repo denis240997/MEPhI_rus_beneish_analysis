{
 "cells": [
  {
   "cell_type": "markdown",
   "id": "d9193360",
   "metadata": {},
   "source": [
    "## Data preparation"
   ]
  },
  {
   "cell_type": "code",
   "execution_count": 1,
   "id": "ffd2a404",
   "metadata": {},
   "outputs": [],
   "source": [
    "import numpy as np\n",
    "import pandas as pd\n",
    "import seaborn as sns\n",
    "import statsmodels.api as sm\n",
    "import matplotlib.pyplot as plt"
   ]
  },
  {
   "cell_type": "code",
   "execution_count": 88,
   "id": "3d329adb",
   "metadata": {
    "scrolled": true
   },
   "outputs": [
    {
     "name": "stdout",
     "output_type": "stream",
     "text": [
      "60\n"
     ]
    },
    {
     "data": {
      "text/html": [
       "<div>\n",
       "<style scoped>\n",
       "    .dataframe tbody tr th:only-of-type {\n",
       "        vertical-align: middle;\n",
       "    }\n",
       "\n",
       "    .dataframe tbody tr th {\n",
       "        vertical-align: top;\n",
       "    }\n",
       "\n",
       "    .dataframe thead th {\n",
       "        text-align: right;\n",
       "    }\n",
       "</style>\n",
       "<table border=\"1\" class=\"dataframe\">\n",
       "  <thead>\n",
       "    <tr style=\"text-align: right;\">\n",
       "      <th></th>\n",
       "      <th>DSRI</th>\n",
       "      <th>GMI</th>\n",
       "      <th>AQI</th>\n",
       "      <th>SGI</th>\n",
       "      <th>SGAI</th>\n",
       "      <th>LVGI</th>\n",
       "      <th>Target</th>\n",
       "    </tr>\n",
       "  </thead>\n",
       "  <tbody>\n",
       "    <tr>\n",
       "      <th>0</th>\n",
       "      <td>0.136</td>\n",
       "      <td>0.000</td>\n",
       "      <td>106.500</td>\n",
       "      <td>1527.000</td>\n",
       "      <td>1.00</td>\n",
       "      <td>1562.000</td>\n",
       "      <td>1</td>\n",
       "    </tr>\n",
       "    <tr>\n",
       "      <th>1</th>\n",
       "      <td>0.520</td>\n",
       "      <td>1.613</td>\n",
       "      <td>26792.000</td>\n",
       "      <td>1.594</td>\n",
       "      <td>1.18</td>\n",
       "      <td>0.980</td>\n",
       "      <td>1</td>\n",
       "    </tr>\n",
       "    <tr>\n",
       "      <th>2</th>\n",
       "      <td>1.136</td>\n",
       "      <td>1.290</td>\n",
       "      <td>1.258</td>\n",
       "      <td>1.323</td>\n",
       "      <td>0.94</td>\n",
       "      <td>0.942</td>\n",
       "      <td>1</td>\n",
       "    </tr>\n",
       "    <tr>\n",
       "      <th>3</th>\n",
       "      <td>10.781</td>\n",
       "      <td>0.029</td>\n",
       "      <td>1.015</td>\n",
       "      <td>0.110</td>\n",
       "      <td>10.30</td>\n",
       "      <td>1.237</td>\n",
       "      <td>1</td>\n",
       "    </tr>\n",
       "    <tr>\n",
       "      <th>4</th>\n",
       "      <td>3.813</td>\n",
       "      <td>0.210</td>\n",
       "      <td>0.663</td>\n",
       "      <td>0.483</td>\n",
       "      <td>3.79</td>\n",
       "      <td>2.883</td>\n",
       "      <td>1</td>\n",
       "    </tr>\n",
       "  </tbody>\n",
       "</table>\n",
       "</div>"
      ],
      "text/plain": [
       "     DSRI    GMI        AQI       SGI   SGAI      LVGI  Target\n",
       "0   0.136  0.000    106.500  1527.000   1.00  1562.000       1\n",
       "1   0.520  1.613  26792.000     1.594   1.18     0.980       1\n",
       "2   1.136  1.290      1.258     1.323   0.94     0.942       1\n",
       "3  10.781  0.029      1.015     0.110  10.30     1.237       1\n",
       "4   3.813  0.210      0.663     0.483   3.79     2.883       1"
      ]
     },
     "execution_count": 88,
     "metadata": {},
     "output_type": "execute_result"
    }
   ],
   "source": [
    "data_full = pd.read_excel('data.xlsx')\n",
    "data = data_full.drop(columns='Name')\n",
    "X, y = data.drop(columns='Target'), data.Target\n",
    "n_data = data.shape[0]\n",
    "print(n_data)\n",
    "data.head()"
   ]
  },
  {
   "cell_type": "code",
   "execution_count": 234,
   "id": "d8de6c74",
   "metadata": {},
   "outputs": [],
   "source": [
    "def calc_metrics(y_true, y_pred, print_res=True):\n",
    "    TP = (y_pred[y_true == 1] == 1).sum()\n",
    "    FP = (y_pred[y_true == 0] == 1).sum()\n",
    "    TN = (y_pred[y_true == 0] == 0).sum()\n",
    "    FN = (y_pred[y_true == 1] == 0).sum()\n",
    "\n",
    "    accuracy = (TP + TN) / (TP + FP + TN + FN)\n",
    "    precision = TP / (TP + FP)\n",
    "    recall = TP / (TP + FN)\n",
    "\n",
    "    F1 = 2 * precision * recall / (precision + recall)\n",
    "    \n",
    "    if print_res:\n",
    "        # print(f'{TP=}, {FP=}, {TN=}, {FN=}')\n",
    "        print(f'accuracy   = {accuracy:.3f}')\n",
    "        print(f'precision  = {precision:.3f}')\n",
    "        print(f'recall     = {recall:.3f}')\n",
    "        print(f'F1         = {F1:.3f}')\n",
    "    else:\n",
    "        return accuracy, precision, recall, F1\n",
    "    \n",
    "def calc_F1(y_true, y_pred):\n",
    "    TP = (y_pred[y_true == 1] == 1).sum()\n",
    "    FP = (y_pred[y_true == 0] == 1).sum()\n",
    "    FN = (y_pred[y_true == 1] == 0).sum()\n",
    "    \n",
    "    if TP + (FP + FN)/2:\n",
    "        return TP / (TP + (FP + FN)/2)\n",
    "    else:\n",
    "        return 0"
   ]
  },
  {
   "cell_type": "markdown",
   "id": "12005591",
   "metadata": {},
   "source": [
    "## Model validation"
   ]
  },
  {
   "cell_type": "code",
   "execution_count": 158,
   "id": "258e0b18",
   "metadata": {},
   "outputs": [],
   "source": [
    "BENEISH_MODEL = {\n",
    "    'const': -4.84,\n",
    "    'DSRI': 0.92,\n",
    "    'GMI': 0.528,\n",
    "    'AQI': 0.404,\n",
    "    'SGI': 0.892,\n",
    "    'SGAI': -0.172,\n",
    "    'LVGI': -0.327,\n",
    "}\n",
    "beneish_model_df = pd.DataFrame(BENEISH_MODEL, index=(0,))\n",
    "\n",
    "def calculate_critical_m_score(X, y):\n",
    "    X1 = sm.add_constant(X)\n",
    "    X1_honest = X1[y == 0]\n",
    "    critical_m_score = (X1_honest.mean() * beneish_model_df.loc[0]).sum()\n",
    "    return critical_m_score\n",
    "    \n",
    "def rus_beneish_predict(X, critical_m_score):\n",
    "    X1 = sm.add_constant(X)\n",
    "    X1 *= beneish_model_df.loc[0]\n",
    "    X1_M_score = X1.sum(axis=1)\n",
    "    prediction = (X1_M_score > critical_m_score).astype(int)\n",
    "    return prediction"
   ]
  },
  {
   "cell_type": "code",
   "execution_count": 160,
   "id": "01bbc8e6",
   "metadata": {},
   "outputs": [
    {
     "name": "stdout",
     "output_type": "stream",
     "text": [
      "accuracy   = 0.683\n",
      "precision  = 0.667\n",
      "recall     = 0.643\n",
      "F1         = 0.655\n"
     ]
    }
   ],
   "source": [
    "critical_m_score = calculate_critical_m_score(X, y)\n",
    "calc_metrics(y, rus_beneish_predict(X, critical_m_score))"
   ]
  },
  {
   "cell_type": "markdown",
   "id": "bc041eda",
   "metadata": {},
   "source": [
    "Бутстрэпом проверим насколько такому классификатору вообще можно доверять"
   ]
  },
  {
   "cell_type": "markdown",
   "id": "1b111516",
   "metadata": {},
   "source": [
    "## Bootstrap"
   ]
  },
  {
   "cell_type": "code",
   "execution_count": 151,
   "id": "6b0d9529",
   "metadata": {},
   "outputs": [],
   "source": [
    "def get_bootstrap_sample(X, y):\n",
    "    \"\"\"Generate bootstrap samples using the bootstrap method.\"\"\"    \n",
    "    indices = np.random.randint(0, y.size, size=y.size)\n",
    "    return X.iloc[indices], y.iloc[indices]\n",
    "\n",
    "def stat_intervals(stat, alpha):\n",
    "    \"\"\"Produce an interval estimate.\"\"\"\n",
    "    boundaries = np.percentile(stat, [100 * alpha / 2.0, 100 * (1 - alpha / 2.0)])\n",
    "    return boundaries"
   ]
  },
  {
   "cell_type": "code",
   "execution_count": 311,
   "id": "63b6c364",
   "metadata": {},
   "outputs": [],
   "source": [
    "def bootstrap_confidential_interval_F1(X, y, classifier, classifier_param_estimator, \n",
    "                                       n_samples=1000, alpha=0.05, random_state=10):\n",
    "    np.random.seed(random_state)\n",
    "    F1_scores = np.empty(n_samples)\n",
    "    for i in range(n_samples):\n",
    "        X_b, y_b = get_bootstrap_sample(X, y)\n",
    "        critical_value = classifier_param_estimator(X_b, y_b)\n",
    "        F1_scores[i] = calc_F1(y_b, classifier(X_b, critical_value))\n",
    "\n",
    "    return stat_intervals(F1_scores, alpha)"
   ]
  },
  {
   "cell_type": "code",
   "execution_count": 312,
   "id": "9f46d786",
   "metadata": {},
   "outputs": [
    {
     "data": {
      "text/plain": [
       "array([0.49054678, 0.7924691 ])"
      ]
     },
     "execution_count": 312,
     "metadata": {},
     "output_type": "execute_result"
    }
   ],
   "source": [
    "bootstrap_confidential_interval_F1(X, y, rus_beneish_predict, calculate_critical_m_score)"
   ]
  },
  {
   "cell_type": "markdown",
   "id": "bbf897f4",
   "metadata": {},
   "source": [
    "А может мы угадали хорошее значение $M-score$ и лучше его каждый раз не пересчитывать?"
   ]
  },
  {
   "cell_type": "code",
   "execution_count": 313,
   "id": "9ccf76d5",
   "metadata": {},
   "outputs": [],
   "source": [
    "def bootstrap_confidential_interval_F1(X, y, classifier, \n",
    "                                       n_samples=1000, alpha=0.05, random_state=10):\n",
    "    np.random.seed(random_state)\n",
    "    F1_scores = np.empty(n_samples)\n",
    "    for i in range(n_samples):\n",
    "        X_b, y_b = get_bootstrap_sample(X, y)\n",
    "        critical_value = -1.8\n",
    "        F1_scores[i] = calc_F1(y_b, classifier(X_b, critical_value))\n",
    "\n",
    "    return stat_intervals(F1_scores, alpha)"
   ]
  },
  {
   "cell_type": "code",
   "execution_count": 315,
   "id": "189687c5",
   "metadata": {},
   "outputs": [
    {
     "data": {
      "text/plain": [
       "array([0.48977324, 0.78125   ])"
      ]
     },
     "execution_count": 315,
     "metadata": {},
     "output_type": "execute_result"
    }
   ],
   "source": [
    "bootstrap_confidential_interval_F1(X, y, rus_beneish_predict)"
   ]
  },
  {
   "cell_type": "markdown",
   "id": "0066c909",
   "metadata": {},
   "source": [
    "Лучше не стало!"
   ]
  },
  {
   "cell_type": "markdown",
   "id": "0600c87a",
   "metadata": {},
   "source": [
    "## Regular linear model"
   ]
  },
  {
   "cell_type": "code",
   "execution_count": 6,
   "id": "67caf8a3",
   "metadata": {},
   "outputs": [],
   "source": [
    "from sklearn.linear_model import LinearRegression"
   ]
  },
  {
   "cell_type": "code",
   "execution_count": 326,
   "id": "14cbaa54",
   "metadata": {},
   "outputs": [
    {
     "data": {
      "image/png": "[encoded data removed]",
      "text/plain": [
       "<Figure size 864x432 with 1 Axes>"
      ]
     },
     "metadata": {
      "needs_background": "light"
     },
     "output_type": "display_data"
    }
   ],
   "source": [
    "classifier = LinearRegression().fit(X, y)\n",
    "linear_prediction = classifier.predict(X)\n",
    "\n",
    "predictive_power_metrics = np.empty((n_data-1, 3))\n",
    "edges = np.sort(linear_prediction)[:-1]\n",
    "i = 0\n",
    "for edge in edges:\n",
    "    prediction = linear_prediction > edge\n",
    "    predictive_power_metrics[i] = calc_metrics(y, prediction, print_res=0)[1:]\n",
    "    i += 1\n",
    "\n",
    "plt.figure(figsize=(12,6))\n",
    "plt.plot(edges, predictive_power_metrics[:,0], label='precision')\n",
    "plt.plot(edges, predictive_power_metrics[:,1], label='recall')\n",
    "plt.plot(edges, predictive_power_metrics[:,2], label='f-score')\n",
    "plt.legend()\n",
    "plt.xlabel('edge')\n",
    "plt.show()"
   ]
  },
  {
   "cell_type": "code",
   "execution_count": 320,
   "id": "59fe2d74",
   "metadata": {},
   "outputs": [
    {
     "data": {
      "text/plain": [
       "0.39100196870263687"
      ]
     },
     "execution_count": 320,
     "metadata": {},
     "output_type": "execute_result"
    }
   ],
   "source": [
    "edge = edges[np.argmax(predictive_power_metrics[:,2])]\n",
    "edge"
   ]
  },
  {
   "cell_type": "code",
   "execution_count": 9,
   "id": "48a4c521",
   "metadata": {},
   "outputs": [
    {
     "name": "stdout",
     "output_type": "stream",
     "text": [
      "accuracy   = 0.733\n",
      "precision  = 0.750\n",
      "recall     = 0.643\n",
      "F1         = 0.692\n"
     ]
    }
   ],
   "source": [
    "calc_metrics(y, sample_beneish_predict(X))"
   ]
  },
  {
   "cell_type": "code",
   "execution_count": 345,
   "id": "891264b9",
   "metadata": {},
   "outputs": [],
   "source": [
    "def bootstrap_confidential_interval_F1_linear(X, y, classifier, n_samples=1000, alpha=0.05, random_state=10):\n",
    "    np.random.seed(random_state)\n",
    "    F1_scores = np.empty(n_samples)\n",
    "    for i in range(n_samples):\n",
    "        X_b, y_b = get_bootstrap_sample(X, y)\n",
    "        classifier.fit(X_b, y_b)\n",
    "        prediction_float = classifier.predict(X_b)\n",
    "        \n",
    "        F1_scores_sample = np.empty(n_data-1)\n",
    "        j = 0\n",
    "        for edge in edges:\n",
    "            prediction = prediction_float > edge\n",
    "            F1_scores_sample[j] = calc_F1(y_b, prediction)\n",
    "            j += 1\n",
    "\n",
    "        F1_scores[i] = F1_scores_sample.max()\n",
    "\n",
    "    return stat_intervals(F1_scores, alpha)"
   ]
  },
  {
   "cell_type": "code",
   "execution_count": 354,
   "id": "ea726a30",
   "metadata": {},
   "outputs": [
    {
     "data": {
      "text/plain": [
       "array([0.6071158 , 0.83333333])"
      ]
     },
     "execution_count": 354,
     "metadata": {},
     "output_type": "execute_result"
    }
   ],
   "source": [
    "bootstrap_confidential_interval_F1_linear(X, y, classifier)"
   ]
  },
  {
   "cell_type": "markdown",
   "id": "b6c0703a",
   "metadata": {},
   "source": [
    "## Logistic model"
   ]
  },
  {
   "cell_type": "code",
   "execution_count": 349,
   "id": "37369779",
   "metadata": {},
   "outputs": [],
   "source": [
    "from sklearn.linear_model import LogisticRegression"
   ]
  },
  {
   "cell_type": "code",
   "execution_count": 350,
   "id": "69f1fdb1",
   "metadata": {},
   "outputs": [
    {
     "name": "stdout",
     "output_type": "stream",
     "text": [
      "accuracy   = 0.783\n",
      "precision  = 0.941\n",
      "recall     = 0.571\n",
      "F1         = 0.711\n"
     ]
    }
   ],
   "source": [
    "clf = LogisticRegression().fit(X, y)\n",
    "\n",
    "calc_metrics(y, clf.predict(X))"
   ]
  },
  {
   "cell_type": "code",
   "execution_count": 355,
   "id": "293e97c4",
   "metadata": {},
   "outputs": [],
   "source": [
    "def bootstrap_confidential_interval_F1_logistic(X, y, n_samples=1000, alpha=0.05, random_state=10):\n",
    "    np.random.seed(random_state)\n",
    "    F1_scores = np.empty(n_samples)\n",
    "    for i in range(n_samples):\n",
    "        X_b, y_b = get_bootstrap_sample(X, y)\n",
    "        classifier = LogisticRegression().fit(X_b, y_b)\n",
    "        F1_scores[i] = calc_F1(y_b, classifier.predict(X_b))\n",
    "\n",
    "    return stat_intervals(F1_scores, alpha)"
   ]
  },
  {
   "cell_type": "code",
   "execution_count": 357,
   "id": "bff79eb0",
   "metadata": {},
   "outputs": [
    {
     "data": {
      "text/plain": [
       "array([0.54054054, 0.86666667])"
      ]
     },
     "execution_count": 357,
     "metadata": {},
     "output_type": "execute_result"
    }
   ],
   "source": [
    "bootstrap_confidential_interval_F1_logistic(X, y, random_state=0)"
   ]
  },
  {
   "cell_type": "markdown",
   "id": "11191fbd",
   "metadata": {},
   "source": [
    "Результат лучше чем у чисто линейных моделей. Этого следовало ожидать, ведь логистический классификатор призван решать именно такую задачу"
   ]
  },
  {
   "cell_type": "markdown",
   "id": "e7142834",
   "metadata": {},
   "source": [
    "## Предпосылки к созданию новой модели классификации"
   ]
  },
  {
   "cell_type": "markdown",
   "id": "aa2ea334",
   "metadata": {},
   "source": [
    "Начнем исследование данных с рассчета взаимных корреляций регрессоров"
   ]
  },
  {
   "cell_type": "code",
   "execution_count": 55,
   "id": "b4ba6d2c",
   "metadata": {},
   "outputs": [
    {
     "data": {
      "image/png": "[encoded data removed]",
      "text/plain": [
       "<Figure size 1080x504 with 2 Axes>"
      ]
     },
     "metadata": {
      "needs_background": "light"
     },
     "output_type": "display_data"
    }
   ],
   "source": [
    "pearson_corr = X.corr(method='pearson')\n",
    "spearman_corr = X.corr(method='spearman')\n",
    "\n",
    "fig, ax = plt.subplots(1, 2, figsize=(15,7))\n",
    "sns.heatmap(pearson_corr, annot=True, cbar=False, ax=ax[0])\n",
    "sns.heatmap(spearman_corr, annot=True, cbar=False, ax=ax[1])\n",
    "ax[0].set_title('Pearson cross-correlation', fontsize=20)\n",
    "ax[1].set_title('Spearman cross-correlation', fontsize=20)\n",
    "plt.show()"
   ]
  },
  {
   "cell_type": "markdown",
   "id": "0e3c0946",
   "metadata": {},
   "source": [
    "Тут уже очевидно, что линейной моделью такие данные описывать нельзя: LVGI и SGI имеют коэффициент корреляции Пирсона практически равный единице, при этом все коэффициенты корреляции Спирмана находятся \"в рамках приличия\"."
   ]
  },
  {
   "cell_type": "markdown",
   "id": "8cbf25d6",
   "metadata": {},
   "source": [
    "Посмотрим на распределения значений индексов модели Бениша, для этого построим боксплоты для нормированных значений индексов"
   ]
  },
  {
   "cell_type": "code",
   "execution_count": 60,
   "id": "eb1d1851",
   "metadata": {},
   "outputs": [
    {
     "data": {
      "image/png": "[encoded data removed]",
      "text/plain": [
       "<Figure size 864x432 with 1 Axes>"
      ]
     },
     "metadata": {
      "needs_background": "light"
     },
     "output_type": "display_data"
    }
   ],
   "source": [
    "X_scaled = (X - X.min()) / X.max()\n",
    "\n",
    "fig, ax = plt.subplots(1, figsize=(12,6))\n",
    "X_scaled.boxplot(ax=ax)\n",
    "plt.show()"
   ]
  },
  {
   "cell_type": "markdown",
   "id": "8e94b4bc",
   "metadata": {},
   "source": [
    "Очевидно, что в данных имеются чрезвычайно выделяющиеся аутлаеры (по сравнению с ними боксплоты почти неразличимы)! \n",
    "\n",
    "Приравняем значения всех точек, превышающих 0.9 квантиль к значению этого квантиля и посмотрим на результат:"
   ]
  },
  {
   "cell_type": "code",
   "execution_count": 61,
   "id": "0ce1b83b",
   "metadata": {},
   "outputs": [
    {
     "data": {
      "image/png": "[encoded data removed]",
      "text/plain": [
       "<Figure size 864x432 with 1 Axes>"
      ]
     },
     "metadata": {
      "needs_background": "light"
     },
     "output_type": "display_data"
    }
   ],
   "source": [
    "quantile = 0.9\n",
    "X_cliped = X.clip(lower=None, upper=np.quantile(X, quantile, axis=0))\n",
    "X_cliped_scaled = (X_cliped - X_cliped.min()) / X_cliped.max()\n",
    "\n",
    "fig, ax = plt.subplots(1, figsize=(12,6))\n",
    "X_cliped_scaled.boxplot(ax=ax)\n",
    "plt.show()"
   ]
  },
  {
   "cell_type": "markdown",
   "id": "06f0c06e",
   "metadata": {},
   "source": [
    "Совсем другое дело! Может быть аутлаеры и есть источник того самого сигнала, который несет информацию о наличии фальсификации и даже линейная модель избыточна?\n",
    "\n",
    "Попробуем построить классификатор, основанный на отсечке по какому-нибудь квантилю по любому из признаков"
   ]
  },
  {
   "cell_type": "markdown",
   "id": "7d4112a6",
   "metadata": {},
   "source": [
    "## Quantile cutoff"
   ]
  },
  {
   "cell_type": "code",
   "execution_count": 353,
   "id": "da57f56b",
   "metadata": {},
   "outputs": [
    {
     "data": {
      "image/png": "[encoded data removed]",
      "text/plain": [
       "<Figure size 864x432 with 1 Axes>"
      ]
     },
     "metadata": {
      "needs_background": "light"
     },
     "output_type": "display_data"
    }
   ],
   "source": [
    "N = 200\n",
    "i = 0\n",
    "q_arr = np.linspace(80, 99, N)\n",
    "predictive_power_metrics = np.empty((N, 3))\n",
    "for q in q_arr:\n",
    "    X_quantile = np.quantile(X, q/100, axis=0)\n",
    "    prediction = (X > X_quantile).any(axis=1)    \n",
    "    \n",
    "    predictive_power_metrics[i] = calc_metrics(y, prediction, print_res=0)[1:]\n",
    "    i += 1\n",
    "\n",
    "plt.figure(figsize=(12,6))\n",
    "plt.step(q_arr, predictive_power_metrics[:,0], label='precision')\n",
    "plt.step(q_arr, predictive_power_metrics[:,1], label='recall')\n",
    "plt.step(q_arr, predictive_power_metrics[:,2], label='f-score')\n",
    "plt.legend()\n",
    "plt.xlabel('edge quantile')\n",
    "plt.grid()\n",
    "plt.show()"
   ]
  },
  {
   "cell_type": "code",
   "execution_count": 236,
   "id": "25db5ff9",
   "metadata": {},
   "outputs": [],
   "source": [
    "def calculate_critical_quantile(X, y):\n",
    "    N = 200\n",
    "    i = 0\n",
    "    q_arr = np.linspace(0.8, 0.99, N)\n",
    "    F1_score = np.empty(N)\n",
    "    for q in q_arr:\n",
    "        X_quantile = np.quantile(X, q, axis=0)\n",
    "        prediction = (X > X_quantile).any(axis=1)    \n",
    "        \n",
    "        F1_score[i] = calc_F1(y, prediction)\n",
    "        i += 1\n",
    "        \n",
    "    return np.linspace(0.8, 0.99, N)[F1_score.argmax()]\n",
    "\n",
    "def quantile_cutoff_classifier(X, critical_quantile):\n",
    "    X_quantile = np.quantile(X, critical_quantile, axis=0)\n",
    "    prediction = (X > X_quantile).any(axis=1)\n",
    "    return prediction"
   ]
  },
  {
   "cell_type": "code",
   "execution_count": 227,
   "id": "d49b9a5e",
   "metadata": {},
   "outputs": [
    {
     "name": "stdout",
     "output_type": "stream",
     "text": [
      "accuracy   = 0.767\n",
      "precision  = 0.818\n",
      "recall     = 0.643\n",
      "F1         = 0.720\n"
     ]
    }
   ],
   "source": [
    "critical_quantile = calculate_critical_quantile(X, y)   \n",
    "calc_metrics(y, quantile_cutoff_classifier(X, critical_quantile))"
   ]
  },
  {
   "cell_type": "markdown",
   "id": "6f4bd646",
   "metadata": {},
   "source": [
    "С помощью bootstrap построим доверительный интервал для $F_1-score$, каждый раз обучая модель на выборочных данных"
   ]
  },
  {
   "cell_type": "code",
   "execution_count": 237,
   "id": "069596b2",
   "metadata": {
    "scrolled": false
   },
   "outputs": [
    {
     "data": {
      "text/plain": [
       "array([0.57971014, 0.83636364])"
      ]
     },
     "execution_count": 237,
     "metadata": {},
     "output_type": "execute_result"
    }
   ],
   "source": [
    "bootstrap_confidential_interval_F1(X, y, quantile_cutoff_classifier, calculate_critical_quantile)"
   ]
  },
  {
   "cell_type": "markdown",
   "id": "d62ad887",
   "metadata": {},
   "source": [
    "Намного лучше исходной модели. Теперь сделаем то же самое, только в качестве граничных значений для индексов будем использовать рассчитанные по оригинальной выборке квантили (это и есть параметры модели, которую мы предлогаем)"
   ]
  },
  {
   "cell_type": "code",
   "execution_count": 309,
   "id": "64a597cb",
   "metadata": {},
   "outputs": [
    {
     "name": "stdout",
     "output_type": "stream",
     "text": [
      "DSRI cutoff value = 4.616\n",
      "GMI  cutoff value = 2.629\n",
      "AQI  cutoff value = 66.542\n",
      "SGI  cutoff value = 3.039\n",
      "SGAI cutoff value = 2.251\n",
      "LVGI cutoff value = 2.118\n"
     ]
    }
   ],
   "source": [
    "incices = ['DSRI', 'GMI', 'AQI', 'SGI', 'SGAI', 'LVGI']\n",
    "for i in range(6):\n",
    "    print(f'{incices[i]: <4} cutoff value = {np.quantile(X, 0.925, axis=0)[i]:.3f}')"
   ]
  },
  {
   "cell_type": "code",
   "execution_count": 297,
   "id": "0bc63d4d",
   "metadata": {},
   "outputs": [],
   "source": [
    "def bootstrap_confidential_interval_F1_quantile(X, y, n_samples=1000, alpha=0.05, random_state=10):\n",
    "    np.random.seed(random_state)\n",
    "    F1_scores = np.empty(n_samples)\n",
    "    Q = np.quantile(X, 0.925, axis=0)\n",
    "    for i in range(n_samples):\n",
    "        X_b, y_b = get_bootstrap_sample(X, y)\n",
    "        prediction = (X_b > Q).any(axis=1)\n",
    "        F1_scores[i] = calc_F1(y_b, prediction)\n",
    "\n",
    "    return stat_intervals(F1_scores, alpha)"
   ]
  },
  {
   "cell_type": "code",
   "execution_count": 298,
   "id": "3c0090bd",
   "metadata": {},
   "outputs": [
    {
     "data": {
      "text/plain": [
       "array([0.55813953, 0.84448718])"
      ]
     },
     "execution_count": 298,
     "metadata": {},
     "output_type": "execute_result"
    }
   ],
   "source": [
    "bootstrap_confidential_interval_F1_quantile(X, y)"
   ]
  },
  {
   "cell_type": "markdown",
   "id": "27d90e65",
   "metadata": {},
   "source": [
    "Наш классификатор по \"квантильной отсечке\" продемонстрировал лучшее значение $F_1-score$ статистически значимо отличающееся от $0.5$. При этом данная модель проще линейной, а значит её и следовало бы использовать для подобных данных."
   ]
  }
 ],
 "metadata": {
  "kernelspec": {
   "display_name": "Python 3",
   "language": "python",
   "name": "python3"
  },
  "language_info": {
   "codemirror_mode": {
    "name": "ipython",
    "version": 3
   },
   "file_extension": ".py",
   "mimetype": "text/x-python",
   "name": "python",
   "nbconvert_exporter": "python",
   "pygments_lexer": "ipython3",
   "version": "3.9.7"
  }
 },
 "nbformat": 4,
 "nbformat_minor": 5
}
